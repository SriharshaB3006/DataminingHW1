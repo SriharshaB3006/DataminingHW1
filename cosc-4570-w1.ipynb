{
 "cells": [
  {
   "cell_type": "code",
   "execution_count": 16,
   "metadata": {
    "collapsed": false
   },
   "outputs": [],
   "source": [
    "D1 = \"This computer science course is awesome science\".lower()\n",
    "D2 = \"Welcome lab to computer science computer lab\".lower()\n",
    "D3 = \"Lab welcome to this lab this is awesome lab space\".lower()\n",
    "D4 = \"Just testing this out so we can move on\".lower()"
   ]
  },
  {
   "cell_type": "code",
   "execution_count": 19,
   "metadata": {
    "collapsed": false
   },
   "outputs": [
    {
     "name": "stdout",
     "output_type": "stream",
     "text": [
      "['move', 'on', 'we', 'testing', 'just', 'to', 'this', 'science', 'is', 'welcome', 'space', 'lab', 'course', 'computer', 'so', 'can', 'awesome', 'out']\n",
      "['this computer science course is awesome science', 'welcome lab to computer science computer lab', 'lab welcome to this lab this is awesome lab space', 'just testing this out so we can move on']\n"
     ]
    }
   ],
   "source": [
    "terms = []\n",
    "corpus = [D1,D2,D3, D4]\n",
    "for doc in corpus:\n",
    "    terms = terms + doc.split()\n",
    "terms = list(set(terms))\n",
    "print terms\n",
    "print corpus"
   ]
  },
  {
   "cell_type": "code",
   "execution_count": 22,
   "metadata": {
    "collapsed": false
   },
   "outputs": [
    {
     "data": {
      "text/plain": [
       "[[0, 0, 0, 0, 0, 0, 1, 2, 1, 0, 0, 0, 1, 1, 0, 0, 1, 0],\n",
       " [0, 0, 0, 0, 0, 1, 0, 1, 0, 1, 0, 2, 0, 2, 0, 0, 0, 0],\n",
       " [0, 0, 0, 0, 0, 1, 2, 0, 1, 1, 1, 3, 0, 0, 0, 0, 1, 0],\n",
       " [1, 1, 1, 1, 1, 0, 1, 0, 0, 0, 0, 0, 0, 0, 1, 1, 0, 1]]"
      ]
     },
     "execution_count": 22,
     "metadata": {},
     "output_type": "execute_result"
    }
   ],
   "source": [
    "# TF list\n",
    "TF = []\n",
    "\n",
    "#existance of term across documents : Document Frequency of all Term \n",
    "n = [0 for i in range(len(terms))]\n",
    "\n",
    "\n",
    "for doc in corpus:\n",
    "    \n",
    "    tf_doc = [0 for i in range(len(terms))]\n",
    "    \n",
    "    #determining term frequency\n",
    "    for term in doc.split():\n",
    "        term_i = terms.index(term)\n",
    "        tf_doc[term_i] = tf_doc[term_i] + 1\n",
    "    \n",
    "    # computing the document term frequency\n",
    "    for item in range(len(terms)):\n",
    "        if tf_doc[item] > 0:\n",
    "            n[item] = n[item] + 1\n",
    "\n",
    "    TF.append(tf_doc)\n",
    "TF"
   ]
  },
  {
   "cell_type": "code",
   "execution_count": 24,
   "metadata": {
    "collapsed": false
   },
   "outputs": [],
   "source": [
    "TFN = []\n",
    "#for each document (TFj) in the Term Freq Matrix\n",
    "for TFj in TF:\n",
    "    #for each term TFij\n",
    "    TFj = [TFij / float(max(TFj)) for TFij in TFj]\n",
    "    TFN.append(TFj)"
   ]
  },
  {
   "cell_type": "code",
   "execution_count": 7,
   "metadata": {
    "collapsed": false
   },
   "outputs": [
    {
     "data": {
      "text/plain": [
       "[[0.0, 0.5, 1.0, 0.5, 0.0, 0.0, 0.0, 0.5, 0.5, 0.5],\n",
       " [0.5, 0.0, 0.5, 0.0, 0.5, 0.0, 1.0, 0.0, 1.0, 0.0],\n",
       " [0.3333333333333333,\n",
       "  0.6666666666666666,\n",
       "  0.0,\n",
       "  0.3333333333333333,\n",
       "  0.3333333333333333,\n",
       "  0.3333333333333333,\n",
       "  1.0,\n",
       "  0.0,\n",
       "  0.0,\n",
       "  0.3333333333333333]]"
      ]
     },
     "execution_count": 7,
     "metadata": {},
     "output_type": "execute_result"
    }
   ],
   "source": [
    "TFN"
   ]
  },
  {
   "cell_type": "markdown",
   "metadata": {},
   "source": [
    "## InverseDocumentFrequency"
   ]
  },
  {
   "cell_type": "code",
   "execution_count": 25,
   "metadata": {
    "collapsed": true
   },
   "outputs": [],
   "source": [
    "import math\n",
    "N = len(corpus)"
   ]
  },
  {
   "cell_type": "code",
   "execution_count": 26,
   "metadata": {
    "collapsed": false
   },
   "outputs": [],
   "source": [
    "IDF = []\n",
    "for termi in range(len(terms)):\n",
    "    IDF.append(math.log(3/float(n[termi]),2))"
   ]
  },
  {
   "cell_type": "code",
   "execution_count": 27,
   "metadata": {
    "collapsed": false
   },
   "outputs": [
    {
     "data": {
      "text/plain": [
       "[1.5849625007211563,\n",
       " 1.5849625007211563,\n",
       " 1.5849625007211563,\n",
       " 1.5849625007211563,\n",
       " 1.5849625007211563,\n",
       " 0.5849625007211562,\n",
       " 0.0,\n",
       " 0.5849625007211562,\n",
       " 0.5849625007211562,\n",
       " 0.5849625007211562,\n",
       " 1.5849625007211563,\n",
       " 0.5849625007211562,\n",
       " 1.5849625007211563,\n",
       " 0.5849625007211562,\n",
       " 1.5849625007211563,\n",
       " 1.5849625007211563,\n",
       " 0.5849625007211562,\n",
       " 1.5849625007211563]"
      ]
     },
     "execution_count": 27,
     "metadata": {},
     "output_type": "execute_result"
    }
   ],
   "source": [
    "IDF"
   ]
  },
  {
   "cell_type": "code",
   "execution_count": 28,
   "metadata": {
    "collapsed": false
   },
   "outputs": [],
   "source": [
    "TFNIDF = []\n",
    "for TFNj in TFN:\n",
    "    TFNjIDF = []\n",
    "    for termIDX in range(len(terms)):\n",
    "        TFNjIDF.append(TFNj[termIDX]*IDF[termIDX])\n",
    "    TFNIDF.append(TFNjIDF)\n",
    "        "
   ]
  },
  {
   "cell_type": "code",
   "execution_count": 29,
   "metadata": {
    "collapsed": false
   },
   "outputs": [],
   "source": [
    "%matplotlib inline\n",
    "import pandas as pd\n",
    "import matplotlib.pyplot as plt\n",
    "import numpy as np\n"
   ]
  },
  {
   "cell_type": "code",
   "execution_count": 30,
   "metadata": {
    "collapsed": false
   },
   "outputs": [
    {
     "data": {
      "text/html": [
       "<div>\n",
       "<table border=\"1\" class=\"dataframe\">\n",
       "  <thead>\n",
       "    <tr style=\"text-align: right;\">\n",
       "      <th></th>\n",
       "      <th>move</th>\n",
       "      <th>on</th>\n",
       "      <th>we</th>\n",
       "      <th>testing</th>\n",
       "      <th>just</th>\n",
       "      <th>to</th>\n",
       "      <th>this</th>\n",
       "      <th>science</th>\n",
       "      <th>is</th>\n",
       "      <th>welcome</th>\n",
       "      <th>space</th>\n",
       "      <th>lab</th>\n",
       "      <th>course</th>\n",
       "      <th>computer</th>\n",
       "      <th>so</th>\n",
       "      <th>can</th>\n",
       "      <th>awesome</th>\n",
       "      <th>out</th>\n",
       "    </tr>\n",
       "  </thead>\n",
       "  <tbody>\n",
       "    <tr>\n",
       "      <th>0</th>\n",
       "      <td>0.000000</td>\n",
       "      <td>0.000000</td>\n",
       "      <td>0.000000</td>\n",
       "      <td>0.000000</td>\n",
       "      <td>0.000000</td>\n",
       "      <td>0.000000</td>\n",
       "      <td>0.0</td>\n",
       "      <td>0.584963</td>\n",
       "      <td>0.292481</td>\n",
       "      <td>0.000000</td>\n",
       "      <td>0.000000</td>\n",
       "      <td>0.000000</td>\n",
       "      <td>0.792481</td>\n",
       "      <td>0.292481</td>\n",
       "      <td>0.000000</td>\n",
       "      <td>0.000000</td>\n",
       "      <td>0.292481</td>\n",
       "      <td>0.000000</td>\n",
       "    </tr>\n",
       "    <tr>\n",
       "      <th>1</th>\n",
       "      <td>0.000000</td>\n",
       "      <td>0.000000</td>\n",
       "      <td>0.000000</td>\n",
       "      <td>0.000000</td>\n",
       "      <td>0.000000</td>\n",
       "      <td>0.292481</td>\n",
       "      <td>0.0</td>\n",
       "      <td>0.292481</td>\n",
       "      <td>0.000000</td>\n",
       "      <td>0.292481</td>\n",
       "      <td>0.000000</td>\n",
       "      <td>0.584963</td>\n",
       "      <td>0.000000</td>\n",
       "      <td>0.584963</td>\n",
       "      <td>0.000000</td>\n",
       "      <td>0.000000</td>\n",
       "      <td>0.000000</td>\n",
       "      <td>0.000000</td>\n",
       "    </tr>\n",
       "    <tr>\n",
       "      <th>2</th>\n",
       "      <td>0.000000</td>\n",
       "      <td>0.000000</td>\n",
       "      <td>0.000000</td>\n",
       "      <td>0.000000</td>\n",
       "      <td>0.000000</td>\n",
       "      <td>0.194988</td>\n",
       "      <td>0.0</td>\n",
       "      <td>0.000000</td>\n",
       "      <td>0.194988</td>\n",
       "      <td>0.194988</td>\n",
       "      <td>0.528321</td>\n",
       "      <td>0.584963</td>\n",
       "      <td>0.000000</td>\n",
       "      <td>0.000000</td>\n",
       "      <td>0.000000</td>\n",
       "      <td>0.000000</td>\n",
       "      <td>0.194988</td>\n",
       "      <td>0.000000</td>\n",
       "    </tr>\n",
       "    <tr>\n",
       "      <th>3</th>\n",
       "      <td>1.584963</td>\n",
       "      <td>1.584963</td>\n",
       "      <td>1.584963</td>\n",
       "      <td>1.584963</td>\n",
       "      <td>1.584963</td>\n",
       "      <td>0.000000</td>\n",
       "      <td>0.0</td>\n",
       "      <td>0.000000</td>\n",
       "      <td>0.000000</td>\n",
       "      <td>0.000000</td>\n",
       "      <td>0.000000</td>\n",
       "      <td>0.000000</td>\n",
       "      <td>0.000000</td>\n",
       "      <td>0.000000</td>\n",
       "      <td>1.584963</td>\n",
       "      <td>1.584963</td>\n",
       "      <td>0.000000</td>\n",
       "      <td>1.584963</td>\n",
       "    </tr>\n",
       "  </tbody>\n",
       "</table>\n",
       "</div>"
      ],
      "text/plain": [
       "       move        on        we   testing      just        to  this   science  \\\n",
       "0  0.000000  0.000000  0.000000  0.000000  0.000000  0.000000   0.0  0.584963   \n",
       "1  0.000000  0.000000  0.000000  0.000000  0.000000  0.292481   0.0  0.292481   \n",
       "2  0.000000  0.000000  0.000000  0.000000  0.000000  0.194988   0.0  0.000000   \n",
       "3  1.584963  1.584963  1.584963  1.584963  1.584963  0.000000   0.0  0.000000   \n",
       "\n",
       "         is   welcome     space       lab    course  computer        so  \\\n",
       "0  0.292481  0.000000  0.000000  0.000000  0.792481  0.292481  0.000000   \n",
       "1  0.000000  0.292481  0.000000  0.584963  0.000000  0.584963  0.000000   \n",
       "2  0.194988  0.194988  0.528321  0.584963  0.000000  0.000000  0.000000   \n",
       "3  0.000000  0.000000  0.000000  0.000000  0.000000  0.000000  1.584963   \n",
       "\n",
       "        can   awesome       out  \n",
       "0  0.000000  0.292481  0.000000  \n",
       "1  0.000000  0.000000  0.000000  \n",
       "2  0.000000  0.194988  0.000000  \n",
       "3  1.584963  0.000000  1.584963  "
      ]
     },
     "execution_count": 30,
     "metadata": {},
     "output_type": "execute_result"
    }
   ],
   "source": [
    "TFIDX = pd.DataFrame(TFNIDF)\n",
    "TFIDX.columns = terms\n",
    "TFIDX"
   ]
  },
  {
   "cell_type": "code",
   "execution_count": 31,
   "metadata": {
    "collapsed": false
   },
   "outputs": [
    {
     "data": {
      "image/png": "[encoded data removed]",
      "text/plain": [
       "<matplotlib.figure.Figure at 0x7fc8f3c482d0>"
      ]
     },
     "metadata": {},
     "output_type": "display_data"
    }
   ],
   "source": [
    "plt.pcolor(TFIDX)\n",
    "plt.yticks(np.arange(0.5, len(TFIDX.index), 1), TFIDX.index)\n",
    "plt.xticks(np.arange(0.5, len(TFIDX.columns), 1), TFIDX.columns)\n",
    "plt.show()"
   ]
  },
  {
   "cell_type": "code",
   "execution_count": 32,
   "metadata": {
    "collapsed": true
   },
   "outputs": [],
   "source": [
    "from scipy.cluster.hierarchy import dendrogram, linkage\n"
   ]
  },
  {
   "cell_type": "code",
   "execution_count": 33,
   "metadata": {
    "collapsed": true
   },
   "outputs": [],
   "source": [
    "Z = linkage(TFIDX, 'ward')\n"
   ]
  },
  {
   "cell_type": "code",
   "execution_count": 34,
   "metadata": {
    "collapsed": false
   },
   "outputs": [
    {
     "data": {
      "image/png": "[encoded data removed]",
      "text/plain": [
       "<matplotlib.figure.Figure at 0x7fc8f1627750>"
      ]
     },
     "metadata": {},
     "output_type": "display_data"
    }
   ],
   "source": [
    "plt.figure(figsize=(25, 10))\n",
    "plt.title('Hierarchical Clustering Dendrogram')\n",
    "plt.xlabel('sample index')\n",
    "plt.ylabel('distance')\n",
    "dendrogram(\n",
    "    Z,\n",
    "    leaf_rotation=90.,  # rotates the x axis labels\n",
    "    leaf_font_size=8.,  # font size for the x axis labels\n",
    ")\n",
    "plt.show()"
   ]
  },
  {
   "cell_type": "markdown",
   "metadata": {},
   "source": [
    "## Hashes 101"
   ]
  },
  {
   "cell_type": "code",
   "execution_count": 35,
   "metadata": {
    "collapsed": true
   },
   "outputs": [],
   "source": [
    "hashtable = [0] * 10"
   ]
  },
  {
   "cell_type": "code",
   "execution_count": 36,
   "metadata": {
    "collapsed": false
   },
   "outputs": [
    {
     "data": {
      "text/plain": [
       "[0, 0, 0, 0, 0, 0, 0, 0, 0, 0]"
      ]
     },
     "execution_count": 36,
     "metadata": {},
     "output_type": "execute_result"
    }
   ],
   "source": [
    "hashtable"
   ]
  },
  {
   "cell_type": "code",
   "execution_count": 37,
   "metadata": {
    "collapsed": true
   },
   "outputs": [],
   "source": [
    "def hash_function(x): return x % 10 "
   ]
  },
  {
   "cell_type": "code",
   "execution_count": 38,
   "metadata": {
    "collapsed": true
   },
   "outputs": [],
   "source": [
    "# Insert a value at a specific key location\n",
    "\n",
    "def Hinsert(htable,key,value): htable[hash_function(key)] = value\n"
   ]
  },
  {
   "cell_type": "code",
   "execution_count": 39,
   "metadata": {
    "collapsed": false
   },
   "outputs": [
    {
     "data": {
      "text/plain": [
       "[0, 'apple', 0, 'banana', 0, 0, 0, 0, 0, 0]"
      ]
     },
     "execution_count": 39,
     "metadata": {},
     "output_type": "execute_result"
    }
   ],
   "source": [
    "Hinsert(hashtable,41,'apple')\n",
    "Hinsert(hashtable,93,'banana')\n",
    "\n",
    "hashtable"
   ]
  },
  {
   "cell_type": "code",
   "execution_count": 42,
   "metadata": {
    "collapsed": false
   },
   "outputs": [
    {
     "data": {
      "text/plain": [
       "3"
      ]
     },
     "execution_count": 42,
     "metadata": {},
     "output_type": "execute_result"
    }
   ],
   "source": [
    "Hinsert(hashtable, 23, 'tangerine')\n",
    "hash_function(23)"
   ]
  },
  {
   "cell_type": "code",
   "execution_count": 41,
   "metadata": {
    "collapsed": false
   },
   "outputs": [
    {
     "data": {
      "text/plain": [
       "[0, 'apple', 0, 'tangerine', 0, 0, 0, 0, 0, 0]"
      ]
     },
     "execution_count": 41,
     "metadata": {},
     "output_type": "execute_result"
    }
   ],
   "source": [
    "hashtable"
   ]
  },
  {
   "cell_type": "markdown",
   "metadata": {},
   "source": [
    "Classically we would say well if you get collisions, we should improve the data structure.\n",
    "\n",
    "But our objective here is not to prevent collisions, our objective is to create a well balanced hash function.\n",
    "\n",
    "**Try implementing the example on page 9 in the book.**\n",
    "\n",
    "You can use the following updated hash functions as a starting point, note the bucket size is fixed. You should probably change that."
   ]
  },
  {
   "cell_type": "code",
   "execution_count": 43,
   "metadata": {
    "collapsed": true
   },
   "outputs": [],
   "source": [
    "\n",
    "def yourname_hash_function(x): return x % 11 \n",
    "\n",
    "\n",
    "my_lHtable = [[] for x in range(11)]\n",
    "\n",
    "def lHinsert(htable,key,value): htable[yourname_hash_function(key)].append((key,value))\n"
   ]
  },
  {
   "cell_type": "code",
   "execution_count": 44,
   "metadata": {
    "collapsed": false
   },
   "outputs": [],
   "source": [
    "lHinsert(my_lHtable,41,'apple')\n",
    "lHinsert(my_lHtable,93,'banana')\n",
    "lHinsert(my_lHtable,23,'tangerine')"
   ]
  },
  {
   "cell_type": "code",
   "execution_count": 45,
   "metadata": {
    "collapsed": false
   },
   "outputs": [
    {
     "data": {
      "text/plain": [
       "[[],\n",
       " [(23, 'tangerine')],\n",
       " [],\n",
       " [],\n",
       " [],\n",
       " [(93, 'banana')],\n",
       " [],\n",
       " [],\n",
       " [(41, 'apple')],\n",
       " [],\n",
       " []]"
      ]
     },
     "execution_count": 45,
     "metadata": {},
     "output_type": "execute_result"
    }
   ],
   "source": [
    "my_lHtable"
   ]
  },
  {
   "cell_type": "markdown",
   "metadata": {},
   "source": [
    "### Hashes and Indexes?\n",
    "\n",
    "Imagine that instead of providing a key and a value, you used the value to generate the key.\n",
    "When you use a value to generate a key, that's called an index\n",
    "This then allows quick retrival of information from the hash.\n",
    "\n",
    "Create a function that converts the value given as a string (fruit names in the prior example) to a numerical key value (which will then be hashed using your previous function)\n",
    "\n",
    "*Hint - Try searching google for string to value conversion in python... but you are free to use any mechanism you wish*"
   ]
  },
  {
   "cell_type": "code",
   "execution_count": null,
   "metadata": {
    "collapsed": false
   },
   "outputs": [],
   "source": [
    "def yourname_string_to_int(myString): \n",
    "    myKey = ???\n",
    "    return myKey\n",
    "\n",
    "yourname_string_to_int(\"foo\")"
   ]
  },
  {
   "cell_type": "markdown",
   "metadata": {},
   "source": [
    "Your inserts would now look like this, though you (sh)/(c)ould create a new insert function..."
   ]
  },
  {
   "cell_type": "code",
   "execution_count": null,
   "metadata": {
    "collapsed": true
   },
   "outputs": [],
   "source": [
    "myNewHashtable = [[] for x in range(??)]\n",
    "\n",
    "lHinsert(myNewHashtable, yourname_string_to_int('apple'),'apple')\n",
    "lHinsert(myNewHashtable, yourname_string_to_int('banana'),'banana')\n",
    "lHinsert(myNewHashtable, yourname_string_to_int('tangerine'),'tangerine')\n"
   ]
  },
  {
   "cell_type": "code",
   "execution_count": null,
   "metadata": {
    "collapsed": false
   },
   "outputs": [],
   "source": [
    "myNewHashtable"
   ]
  },
  {
   "cell_type": "markdown",
   "metadata": {
    "collapsed": true
   },
   "source": [
    "## Computing $e$ (brute forcing)\n",
    "\n",
    "$e = $ limit as $(1+\\frac{1}{x})^x $ as $x$ tends towards infinite"
   ]
  },
  {
   "cell_type": "code",
   "execution_count": 51,
   "metadata": {
    "collapsed": false
   },
   "outputs": [
    {
     "name": "stdout",
     "output_type": "stream",
     "text": [
      "e appox = 2.71826823703\n"
     ]
    }
   ],
   "source": [
    "previousE = 0.0\n",
    "for x in range(1,100000):\n",
    "    newE = pow(1 + (1/float(x)),x)\n",
    "    if (newE - previousE)/newE < 0.000000000001:\n",
    "        print \"x @ \", x\n",
    "        break\n",
    "    previousE = newE\n",
    "print \"e appox =\", previousE"
   ]
  },
  {
   "cell_type": "markdown",
   "metadata": {},
   "source": [
    "Consider $(1+a)^b$ where a is relatively small\n",
    "\n",
    "$(1+a)^b = (1+a)^{(b*a)}*(1/a)$\n",
    "\n",
    "Let $a = 1/x$ ; clearly $1/a = x$\n",
    "\n",
    "Substitute\n",
    "\n",
    "$(1 + \\frac{1}{x})^{x(ba)}$\n",
    "\n",
    "Exponent Rules!\n",
    "\n",
    "$((1 + \\frac{1}{x})^{x})^{(ba)}$\n",
    "\n",
    "But we already know that $(1 + \\frac{1}{x})^{x})$ is approx by $e$, so\n",
    "\n",
    "$((1 + \\frac{1}{x})^{x})^{(ba)} \\approx e^{ba} \\approx (1+a)^b$\n",
    "\n",
    "\n",
    "\n",
    "What this allows is to solve problems liks $(1+a)^b)$ as $e^{ab}$\n",
    "\n",
    "Really what's important is that $(1 - a)^b \\approx e^{-ab}$ when a is small and b is large!"
   ]
  },
  {
   "cell_type": "markdown",
   "metadata": {},
   "source": [
    "### Taylor Expansion of $e^x$ , approx hold for small values of x\n",
    "$e^x = \\sum_{i=0}^\\infty \\frac{x^i}{i!}$\n",
    "\n",
    "$e^x = 1 + x + \\frac{x^2}{2!} + \\frac{x^3}{3!} + \\frac{x^4}{4!}\\cdots =  1 + x + \\frac{x^2}{2} + \\frac{x^3}{6} + \\frac{x^4}{24} \\cdots$"
   ]
  },
  {
   "cell_type": "code",
   "execution_count": 50,
   "metadata": {
    "collapsed": false
   },
   "outputs": [
    {
     "name": "stdout",
     "output_type": "stream",
     "text": [
      "2.71828152557 ~ 2.71828182846\n"
     ]
    }
   ],
   "source": [
    "import math\n",
    "x = 1\n",
    "approx = 0\n",
    "for i in range(0,10):\n",
    "    approx = approx + math.pow(x,i)/math.factorial(i)\n",
    "print approx, \"~\", math.exp(x)\n"
   ]
  },
  {
   "cell_type": "code",
   "execution_count": null,
   "metadata": {
    "collapsed": true
   },
   "outputs": [],
   "source": []
  }
 ],
 "metadata": {
  "kernelspec": {
   "display_name": "Python 2",
   "language": "python",
   "name": "python2"
  },
  "language_info": {
   "codemirror_mode": {
    "name": "ipython",
    "version": 2
   },
   "file_extension": ".py",
   "mimetype": "text/x-python",
   "name": "python",
   "nbconvert_exporter": "python",
   "pygments_lexer": "ipython2",
   "version": "2.7.11"
  }
 },
 "nbformat": 4,
 "nbformat_minor": 0
}
